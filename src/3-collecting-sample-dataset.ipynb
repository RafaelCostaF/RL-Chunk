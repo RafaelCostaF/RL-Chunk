{
 "cells": [
  {
   "cell_type": "code",
   "execution_count": 13,
   "id": "ac0b0f7a-22e0-443a-8cb2-986605675565",
   "metadata": {},
   "outputs": [
    {
     "name": "stdout",
     "output_type": "stream",
     "text": [
      "finance    50\n",
      "movie      50\n",
      "music      50\n",
      "open       50\n",
      "sports     50\n",
      "Name: domain, dtype: int64\n",
      "                         interaction_id           query_time   domain  \\\n",
      "0  6707548c-f697-48f9-8e8b-c1bc642ea02f  2024-03-13 08:46:46  finance   \n",
      "1  3a4206fb-5cd5-4db1-a330-9b4e5f3b073c  2024-03-13 09:04:37  finance   \n",
      "2  040b8c87-7da9-4a93-92d4-54702d3fe327  2024-03-05 23:13:16  finance   \n",
      "3  0f648bed-e047-4420-bfe4-2946a86e9ca4  2024-02-28 08:26:59  finance   \n",
      "4  860f1d51-66b5-411a-93ec-370f361fe406  2024-03-17 16:48:50  finance   \n",
      "\n",
      "        question_type static_or_dynamic  \\\n",
      "0  simple_w_condition            static   \n",
      "1           multi-hop     fast-changing   \n",
      "2         aggregation     slow-changing   \n",
      "3              simple         real-time   \n",
      "4         aggregation            static   \n",
      "\n",
      "                                               query  \\\n",
      "0  what was the total value of all exchange-trade...   \n",
      "1  which company in the s&p 500 index has the hig...   \n",
      "2  what is the market share of microsoft in the c...   \n",
      "3  on which date did cgo distribute dividends the...   \n",
      "4  how many times does apple report their earning...   \n",
      "\n",
      "                                              answer split alt_ans  \\\n",
      "0  the total value of all etfs in the global mark...     1      []   \n",
      "1  the company with the highest ratio of insider ...     1      []   \n",
      "2                                                22%     1      []   \n",
      "3                                         2005-12-28     1      []   \n",
      "4  apple reports their earnings each quarter whic...     1      []   \n",
      "\n",
      "                                   page_results_text  \n",
      "0  Global ETF Market Facts: three things to know ...  \n",
      "1  List of S&P 500 companies - Wikipedia Jump to ...  \n",
      "2  Cloud Market Share: A Look at the Cloud Ecosys...  \n",
      "3  Ex-Dividend Dates: When Are You Entitled to St...  \n",
      "4  Investor Relations - Apple Skip to main conten...  \n"
     ]
    }
   ],
   "source": [
    "import pandas as pd\n",
    "import os\n",
    "\n",
    "# Directory containing the parquet files\n",
    "parquet_dir = \"crag_dataset/parquet/\"\n",
    "\n",
    "# List to hold all DataFrames\n",
    "dfs = []\n",
    "\n",
    "# Load and combine all Parquet files\n",
    "for file_name in os.listdir(parquet_dir):\n",
    "    if file_name.endswith(\".parquet\"):\n",
    "        file_path = os.path.join(parquet_dir, file_name)\n",
    "        df = pd.read_parquet(file_path)\n",
    "        dfs.append(df)\n",
    "\n",
    "# Concatenate all DataFrames\n",
    "full_df = pd.concat(dfs, ignore_index=True)\n",
    "\n",
    "# Get 20 random samples per domain\n",
    "sampled_df = full_df.groupby(\"domain\", group_keys=False).apply(lambda x: x.sample(min(len(x), 50), random_state=42))\n",
    "\n",
    "# Reset index for clean output (optional)\n",
    "sampled_df = sampled_df.reset_index(drop=True)\n",
    "\n",
    "# Preview result\n",
    "print(sampled_df[\"domain\"].value_counts())\n",
    "print(sampled_df.head())\n"
   ]
  },
  {
   "cell_type": "code",
   "execution_count": 14,
   "id": "e538219b-1aab-423b-8b0a-6b9f3678de2e",
   "metadata": {},
   "outputs": [],
   "source": [
    "del sampled_df['query_time']\n",
    "del sampled_df['split']\n",
    "del sampled_df['alt_ans']"
   ]
  },
  {
   "cell_type": "code",
   "execution_count": 16,
   "id": "43397cc1-581b-45cb-8b76-99bdc1a2027f",
   "metadata": {},
   "outputs": [],
   "source": [
    "sampled_df.to_parquet(\"sampled_50_per_domain.parquet\", index=False)"
   ]
  }
 ],
 "metadata": {
  "kernelspec": {
   "display_name": "Python 3 (ipykernel)",
   "language": "python",
   "name": "python3"
  },
  "language_info": {
   "codemirror_mode": {
    "name": "ipython",
    "version": 3
   },
   "file_extension": ".py",
   "mimetype": "text/x-python",
   "name": "python",
   "nbconvert_exporter": "python",
   "pygments_lexer": "ipython3",
   "version": "3.9.20"
  }
 },
 "nbformat": 4,
 "nbformat_minor": 5
}
